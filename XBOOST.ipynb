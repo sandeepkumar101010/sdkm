{
 "cells": [
  {
   "cell_type": "code",
   "execution_count": 1,
   "metadata": {},
   "outputs": [],
   "source": [
    "import numpy as np\n",
    "import pandas as pd\n",
    "\n",
    "train_set = pd.read_csv('http://archive.ics.uci.edu/ml/machine-learning-databases/adult/adult.data', header = None)\n",
    "\n",
    "test_set = pd.read_csv('http://archive.ics.uci.edu/ml/machine-learning-databases/adult/adult.test' , skiprows = 1, header = None)\n",
    "\n",
    "col_labels = ['age', 'workclass', 'fnlwgt', 'education', 'education_num',\n",
    "'marital_status', 'occupation','relationship', 'race', 'sex', 'capital_gain',\n",
    "'capital_loss', 'hours_per_week', 'native_country', 'wage_class']\n",
    "train_set.columns = col_labels\n",
    "test_set.columns = col_labels"
   ]
  },
  {
   "cell_type": "code",
   "execution_count": 2,
   "metadata": {},
   "outputs": [],
   "source": [
    "df = pd.concat([train_set,test_set])"
   ]
  },
  {
   "cell_type": "code",
   "execution_count": 37,
   "metadata": {
    "collapsed": true
   },
   "outputs": [
    {
     "data": {
      "text/plain": [
       "age               0\n",
       "workclass         0\n",
       "fnlwgt            0\n",
       "education         0\n",
       "education_num     0\n",
       "marital_status    0\n",
       "occupation        0\n",
       "relationship      0\n",
       "race              0\n",
       "sex               0\n",
       "capital_gain      0\n",
       "capital_loss      0\n",
       "hours_per_week    0\n",
       "native_country    0\n",
       "wage_class        0\n",
       "dtype: int64"
      ]
     },
     "execution_count": 37,
     "metadata": {},
     "output_type": "execute_result"
    }
   ],
   "source": [
    "df.isnull().sum()"
   ]
  },
  {
   "cell_type": "code",
   "execution_count": 3,
   "metadata": {},
   "outputs": [],
   "source": [
    "import numpy as np\n",
    "df['wage_class'] = np.where((df['wage_class'] == ' >50K') | (df['wage_class'] == ' >50K.'),1,0)"
   ]
  },
  {
   "cell_type": "code",
   "execution_count": 42,
   "metadata": {},
   "outputs": [
    {
     "data": {
      "text/plain": [
       "0    37155\n",
       "1    11687\n",
       "Name: wage_class, dtype: int64"
      ]
     },
     "execution_count": 42,
     "metadata": {},
     "output_type": "execute_result"
    }
   ],
   "source": [
    "df.wage_class.value_counts()"
   ]
  },
  {
   "cell_type": "code",
   "execution_count": 46,
   "metadata": {},
   "outputs": [
    {
     "data": {
      "text/html": [
       "<div>\n",
       "<style scoped>\n",
       "    .dataframe tbody tr th:only-of-type {\n",
       "        vertical-align: middle;\n",
       "    }\n",
       "\n",
       "    .dataframe tbody tr th {\n",
       "        vertical-align: top;\n",
       "    }\n",
       "\n",
       "    .dataframe thead th {\n",
       "        text-align: right;\n",
       "    }\n",
       "</style>\n",
       "<table border=\"1\" class=\"dataframe\">\n",
       "  <thead>\n",
       "    <tr style=\"text-align: right;\">\n",
       "      <th></th>\n",
       "      <th>age</th>\n",
       "      <th>fnlwgt</th>\n",
       "      <th>education_num</th>\n",
       "      <th>capital_gain</th>\n",
       "      <th>capital_loss</th>\n",
       "      <th>hours_per_week</th>\n",
       "      <th>wage_class</th>\n",
       "    </tr>\n",
       "  </thead>\n",
       "  <tbody>\n",
       "    <tr>\n",
       "      <th>count</th>\n",
       "      <td>48842.000000</td>\n",
       "      <td>4.884200e+04</td>\n",
       "      <td>48842.000000</td>\n",
       "      <td>48842.000000</td>\n",
       "      <td>48842.000000</td>\n",
       "      <td>48842.000000</td>\n",
       "      <td>48842.000000</td>\n",
       "    </tr>\n",
       "    <tr>\n",
       "      <th>mean</th>\n",
       "      <td>38.643585</td>\n",
       "      <td>1.896641e+05</td>\n",
       "      <td>10.078089</td>\n",
       "      <td>1079.067626</td>\n",
       "      <td>87.502314</td>\n",
       "      <td>40.422382</td>\n",
       "      <td>0.239282</td>\n",
       "    </tr>\n",
       "    <tr>\n",
       "      <th>std</th>\n",
       "      <td>13.710510</td>\n",
       "      <td>1.056040e+05</td>\n",
       "      <td>2.570973</td>\n",
       "      <td>7452.019058</td>\n",
       "      <td>403.004552</td>\n",
       "      <td>12.391444</td>\n",
       "      <td>0.426649</td>\n",
       "    </tr>\n",
       "    <tr>\n",
       "      <th>min</th>\n",
       "      <td>17.000000</td>\n",
       "      <td>1.228500e+04</td>\n",
       "      <td>1.000000</td>\n",
       "      <td>0.000000</td>\n",
       "      <td>0.000000</td>\n",
       "      <td>1.000000</td>\n",
       "      <td>0.000000</td>\n",
       "    </tr>\n",
       "    <tr>\n",
       "      <th>25%</th>\n",
       "      <td>28.000000</td>\n",
       "      <td>1.175505e+05</td>\n",
       "      <td>9.000000</td>\n",
       "      <td>0.000000</td>\n",
       "      <td>0.000000</td>\n",
       "      <td>40.000000</td>\n",
       "      <td>0.000000</td>\n",
       "    </tr>\n",
       "    <tr>\n",
       "      <th>50%</th>\n",
       "      <td>37.000000</td>\n",
       "      <td>1.781445e+05</td>\n",
       "      <td>10.000000</td>\n",
       "      <td>0.000000</td>\n",
       "      <td>0.000000</td>\n",
       "      <td>40.000000</td>\n",
       "      <td>0.000000</td>\n",
       "    </tr>\n",
       "    <tr>\n",
       "      <th>75%</th>\n",
       "      <td>48.000000</td>\n",
       "      <td>2.376420e+05</td>\n",
       "      <td>12.000000</td>\n",
       "      <td>0.000000</td>\n",
       "      <td>0.000000</td>\n",
       "      <td>45.000000</td>\n",
       "      <td>0.000000</td>\n",
       "    </tr>\n",
       "    <tr>\n",
       "      <th>max</th>\n",
       "      <td>90.000000</td>\n",
       "      <td>1.490400e+06</td>\n",
       "      <td>16.000000</td>\n",
       "      <td>99999.000000</td>\n",
       "      <td>4356.000000</td>\n",
       "      <td>99.000000</td>\n",
       "      <td>1.000000</td>\n",
       "    </tr>\n",
       "  </tbody>\n",
       "</table>\n",
       "</div>"
      ],
      "text/plain": [
       "                age        fnlwgt  education_num  capital_gain  capital_loss  \\\n",
       "count  48842.000000  4.884200e+04   48842.000000  48842.000000  48842.000000   \n",
       "mean      38.643585  1.896641e+05      10.078089   1079.067626     87.502314   \n",
       "std       13.710510  1.056040e+05       2.570973   7452.019058    403.004552   \n",
       "min       17.000000  1.228500e+04       1.000000      0.000000      0.000000   \n",
       "25%       28.000000  1.175505e+05       9.000000      0.000000      0.000000   \n",
       "50%       37.000000  1.781445e+05      10.000000      0.000000      0.000000   \n",
       "75%       48.000000  2.376420e+05      12.000000      0.000000      0.000000   \n",
       "max       90.000000  1.490400e+06      16.000000  99999.000000   4356.000000   \n",
       "\n",
       "       hours_per_week    wage_class  \n",
       "count    48842.000000  48842.000000  \n",
       "mean        40.422382      0.239282  \n",
       "std         12.391444      0.426649  \n",
       "min          1.000000      0.000000  \n",
       "25%         40.000000      0.000000  \n",
       "50%         40.000000      0.000000  \n",
       "75%         45.000000      0.000000  \n",
       "max         99.000000      1.000000  "
      ]
     },
     "execution_count": 46,
     "metadata": {},
     "output_type": "execute_result"
    }
   ],
   "source": [
    "df.describe()"
   ]
  },
  {
   "cell_type": "code",
   "execution_count": 49,
   "metadata": {},
   "outputs": [
    {
     "data": {
      "text/plain": [
       "<matplotlib.axes._subplots.AxesSubplot at 0x199a2091c88>"
      ]
     },
     "execution_count": 49,
     "metadata": {},
     "output_type": "execute_result"
    },
    {
     "data": {
      "image/png": "[encoded data removed]",
      "text/plain": [
       "<Figure size 432x288 with 1 Axes>"
      ]
     },
     "metadata": {
      "needs_background": "light"
     },
     "output_type": "display_data"
    }
   ],
   "source": [
    "sns.distplot(df['age'])"
   ]
  },
  {
   "cell_type": "code",
   "execution_count": 24,
   "metadata": {},
   "outputs": [
    {
     "data": {
      "image/png": "[encoded data removed]",
      "text/plain": [
       "<Figure size 432x288 with 1 Axes>"
      ]
     },
     "metadata": {
      "needs_background": "light"
     },
     "output_type": "display_data"
    }
   ],
   "source": [
    "import scipy.stats as stats\n",
    "import pylab\n",
    "import numpy as np\n",
    "import matplotlib.pyplot as plt\n",
    "stats.probplot((df['age']),plot=pylab)\n",
    "plt.show()"
   ]
  },
  {
   "cell_type": "code",
   "execution_count": 67,
   "metadata": {},
   "outputs": [
    {
     "data": {
      "text/plain": [
       "count    4.884200e+04\n",
       "mean     1.896641e+05\n",
       "std      1.056040e+05\n",
       "min      1.228500e+04\n",
       "25%      1.175505e+05\n",
       "50%      1.781445e+05\n",
       "75%      2.376420e+05\n",
       "max      1.490400e+06\n",
       "Name: fnlwgt, dtype: float64"
      ]
     },
     "execution_count": 67,
     "metadata": {},
     "output_type": "execute_result"
    }
   ],
   "source": [
    "df.fnlwgt.describe()"
   ]
  },
  {
   "cell_type": "code",
   "execution_count": 69,
   "metadata": {},
   "outputs": [
    {
     "data": {
      "text/plain": [
       "<matplotlib.axes._subplots.AxesSubplot at 0x199b18a61c8>"
      ]
     },
     "execution_count": 69,
     "metadata": {},
     "output_type": "execute_result"
    },
    {
     "data": {
      "image/png": "[encoded data removed]",
      "text/plain": [
       "<Figure size 432x288 with 1 Axes>"
      ]
     },
     "metadata": {
      "needs_background": "light"
     },
     "output_type": "display_data"
    }
   ],
   "source": [
    "sns.distplot(df['fnlwgt'])"
   ]
  },
  {
   "cell_type": "code",
   "execution_count": 74,
   "metadata": {},
   "outputs": [
    {
     "data": {
      "text/html": [
       "<div>\n",
       "<style scoped>\n",
       "    .dataframe tbody tr th:only-of-type {\n",
       "        vertical-align: middle;\n",
       "    }\n",
       "\n",
       "    .dataframe tbody tr th {\n",
       "        vertical-align: top;\n",
       "    }\n",
       "\n",
       "    .dataframe thead th {\n",
       "        text-align: right;\n",
       "    }\n",
       "</style>\n",
       "<table border=\"1\" class=\"dataframe\">\n",
       "  <thead>\n",
       "    <tr style=\"text-align: right;\">\n",
       "      <th></th>\n",
       "      <th>age</th>\n",
       "      <th>workclass</th>\n",
       "      <th>fnlwgt</th>\n",
       "      <th>education_num</th>\n",
       "      <th>capital_loss</th>\n",
       "      <th>hours_per_week</th>\n",
       "      <th>native_country</th>\n",
       "      <th>wage_class</th>\n",
       "      <th>education_ 11th</th>\n",
       "      <th>education_ 12th</th>\n",
       "      <th>...</th>\n",
       "      <th>relationship_ Not-in-family</th>\n",
       "      <th>relationship_ Other-relative</th>\n",
       "      <th>relationship_ Own-child</th>\n",
       "      <th>relationship_ Unmarried</th>\n",
       "      <th>relationship_ Wife</th>\n",
       "      <th>race_ Asian-Pac-Islander</th>\n",
       "      <th>race_ Black</th>\n",
       "      <th>race_ Other</th>\n",
       "      <th>race_ White</th>\n",
       "      <th>sex_ Male</th>\n",
       "    </tr>\n",
       "  </thead>\n",
       "  <tbody>\n",
       "    <tr>\n",
       "      <th>16276</th>\n",
       "      <td>39</td>\n",
       "      <td>Private</td>\n",
       "      <td>215419</td>\n",
       "      <td>13</td>\n",
       "      <td>0</td>\n",
       "      <td>36</td>\n",
       "      <td>United-States</td>\n",
       "      <td>0</td>\n",
       "      <td>0</td>\n",
       "      <td>0</td>\n",
       "      <td>...</td>\n",
       "      <td>1</td>\n",
       "      <td>0</td>\n",
       "      <td>0</td>\n",
       "      <td>0</td>\n",
       "      <td>0</td>\n",
       "      <td>0</td>\n",
       "      <td>0</td>\n",
       "      <td>0</td>\n",
       "      <td>1</td>\n",
       "      <td>0</td>\n",
       "    </tr>\n",
       "    <tr>\n",
       "      <th>16277</th>\n",
       "      <td>64</td>\n",
       "      <td>?</td>\n",
       "      <td>321403</td>\n",
       "      <td>9</td>\n",
       "      <td>0</td>\n",
       "      <td>40</td>\n",
       "      <td>United-States</td>\n",
       "      <td>0</td>\n",
       "      <td>0</td>\n",
       "      <td>0</td>\n",
       "      <td>...</td>\n",
       "      <td>0</td>\n",
       "      <td>1</td>\n",
       "      <td>0</td>\n",
       "      <td>0</td>\n",
       "      <td>0</td>\n",
       "      <td>0</td>\n",
       "      <td>1</td>\n",
       "      <td>0</td>\n",
       "      <td>0</td>\n",
       "      <td>1</td>\n",
       "    </tr>\n",
       "    <tr>\n",
       "      <th>16278</th>\n",
       "      <td>38</td>\n",
       "      <td>Private</td>\n",
       "      <td>374983</td>\n",
       "      <td>13</td>\n",
       "      <td>0</td>\n",
       "      <td>50</td>\n",
       "      <td>United-States</td>\n",
       "      <td>0</td>\n",
       "      <td>0</td>\n",
       "      <td>0</td>\n",
       "      <td>...</td>\n",
       "      <td>0</td>\n",
       "      <td>0</td>\n",
       "      <td>0</td>\n",
       "      <td>0</td>\n",
       "      <td>0</td>\n",
       "      <td>0</td>\n",
       "      <td>0</td>\n",
       "      <td>0</td>\n",
       "      <td>1</td>\n",
       "      <td>1</td>\n",
       "    </tr>\n",
       "    <tr>\n",
       "      <th>16279</th>\n",
       "      <td>44</td>\n",
       "      <td>Private</td>\n",
       "      <td>83891</td>\n",
       "      <td>13</td>\n",
       "      <td>0</td>\n",
       "      <td>40</td>\n",
       "      <td>United-States</td>\n",
       "      <td>0</td>\n",
       "      <td>0</td>\n",
       "      <td>0</td>\n",
       "      <td>...</td>\n",
       "      <td>0</td>\n",
       "      <td>0</td>\n",
       "      <td>1</td>\n",
       "      <td>0</td>\n",
       "      <td>0</td>\n",
       "      <td>1</td>\n",
       "      <td>0</td>\n",
       "      <td>0</td>\n",
       "      <td>0</td>\n",
       "      <td>1</td>\n",
       "    </tr>\n",
       "    <tr>\n",
       "      <th>16280</th>\n",
       "      <td>35</td>\n",
       "      <td>Self-emp-inc</td>\n",
       "      <td>182148</td>\n",
       "      <td>13</td>\n",
       "      <td>0</td>\n",
       "      <td>60</td>\n",
       "      <td>United-States</td>\n",
       "      <td>1</td>\n",
       "      <td>0</td>\n",
       "      <td>0</td>\n",
       "      <td>...</td>\n",
       "      <td>0</td>\n",
       "      <td>0</td>\n",
       "      <td>0</td>\n",
       "      <td>0</td>\n",
       "      <td>0</td>\n",
       "      <td>0</td>\n",
       "      <td>0</td>\n",
       "      <td>0</td>\n",
       "      <td>1</td>\n",
       "      <td>1</td>\n",
       "    </tr>\n",
       "  </tbody>\n",
       "</table>\n",
       "<p>5 rows × 53 columns</p>\n",
       "</div>"
      ],
      "text/plain": [
       "       age      workclass  fnlwgt  education_num  capital_loss  \\\n",
       "16276   39        Private  215419             13             0   \n",
       "16277   64              ?  321403              9             0   \n",
       "16278   38        Private  374983             13             0   \n",
       "16279   44        Private   83891             13             0   \n",
       "16280   35   Self-emp-inc  182148             13             0   \n",
       "\n",
       "       hours_per_week  native_country  wage_class  education_ 11th  \\\n",
       "16276              36   United-States           0                0   \n",
       "16277              40   United-States           0                0   \n",
       "16278              50   United-States           0                0   \n",
       "16279              40   United-States           0                0   \n",
       "16280              60   United-States           1                0   \n",
       "\n",
       "       education_ 12th  ...  relationship_ Not-in-family  \\\n",
       "16276                0  ...                            1   \n",
       "16277                0  ...                            0   \n",
       "16278                0  ...                            0   \n",
       "16279                0  ...                            0   \n",
       "16280                0  ...                            0   \n",
       "\n",
       "       relationship_ Other-relative  relationship_ Own-child  \\\n",
       "16276                             0                        0   \n",
       "16277                             1                        0   \n",
       "16278                             0                        0   \n",
       "16279                             0                        1   \n",
       "16280                             0                        0   \n",
       "\n",
       "       relationship_ Unmarried  relationship_ Wife  race_ Asian-Pac-Islander  \\\n",
       "16276                        0                   0                         0   \n",
       "16277                        0                   0                         0   \n",
       "16278                        0                   0                         0   \n",
       "16279                        0                   0                         1   \n",
       "16280                        0                   0                         0   \n",
       "\n",
       "       race_ Black  race_ Other  race_ White  sex_ Male  \n",
       "16276            0            0            1          0  \n",
       "16277            1            0            0          1  \n",
       "16278            0            0            1          1  \n",
       "16279            0            0            0          1  \n",
       "16280            0            0            1          1  \n",
       "\n",
       "[5 rows x 53 columns]"
      ]
     },
     "execution_count": 74,
     "metadata": {},
     "output_type": "execute_result"
    }
   ],
   "source": [
    "df.tail()"
   ]
  },
  {
   "cell_type": "code",
   "execution_count": 4,
   "metadata": {},
   "outputs": [
    {
     "data": {
      "image/png": "[encoded data removed]",
      "text/plain": [
       "<Figure size 432x288 with 1 Axes>"
      ]
     },
     "metadata": {
      "needs_background": "light"
     },
     "output_type": "display_data"
    }
   ],
   "source": [
    "import scipy.stats as stats\n",
    "impaort pylab\n",
    "import numpy as np\n",
    "import matplotlib.pyplot as plt\n",
    "stats.probplot((df['fnlwgt']),plot=pylab)\n",
    "plt.show()"
   ]
  },
  {
   "cell_type": "code",
   "execution_count": 32,
   "metadata": {},
   "outputs": [],
   "source": []
  },
  {
   "cell_type": "code",
   "execution_count": 4,
   "metadata": {},
   "outputs": [],
   "source": [
    "df=pd.get_dummies(columns=['education'],drop_first=True,data=df)"
   ]
  },
  {
   "cell_type": "code",
   "execution_count": 5,
   "metadata": {},
   "outputs": [],
   "source": [
    "df=pd.get_dummies(columns=['marital_status'],drop_first=True,data=df)"
   ]
  },
  {
   "cell_type": "code",
   "execution_count": 6,
   "metadata": {},
   "outputs": [],
   "source": [
    "df=pd.get_dummies(columns=['occupation'],drop_first=True,data=df)"
   ]
  },
  {
   "cell_type": "code",
   "execution_count": 7,
   "metadata": {},
   "outputs": [],
   "source": [
    "df=pd.get_dummies(columns=['relationship','race','sex'],drop_first=True,data=df)"
   ]
  },
  {
   "cell_type": "code",
   "execution_count": 22,
   "metadata": {},
   "outputs": [
    {
     "data": {
      "text/plain": [
       "count    48842.000000\n",
       "mean      1079.067626\n",
       "std       7452.019058\n",
       "min          0.000000\n",
       "25%          0.000000\n",
       "50%          0.000000\n",
       "75%          0.000000\n",
       "max      99999.000000\n",
       "Name: capital_gain, dtype: float64"
      ]
     },
     "execution_count": 22,
     "metadata": {},
     "output_type": "execute_result"
    }
   ],
   "source": [
    "df.capital_gain.describe()"
   ]
  },
  {
   "cell_type": "code",
   "execution_count": 30,
   "metadata": {
    "collapsed": true
   },
   "outputs": [
    {
     "data": {
      "text/plain": [
       "(array([ 1246,  1368,  1482,  1528,  1616,  1682,  1765,  1771,  1826,\n",
       "         2103,  2319,  2361,  2707,  3105,  3175,  3368,  3836,  4389,\n",
       "         4421,  4625,  4656,  4898,  5098,  5184,  5473,  5588,  6002,\n",
       "         6035,  6225,  6524,  6751,  7090,  7347,  7517,  7553,  7572,\n",
       "         7629,  7745,  8442,  8476,  8710,  8740,  8742,  9184,  9228,\n",
       "         9673,  9760, 10366, 10661, 10771, 10848, 10962, 10964, 11485,\n",
       "        11976, 12062, 12093, 12141, 12533, 12539, 12655, 12677, 12909,\n",
       "        13422, 13455, 13499, 13997, 14117, 14238, 14579, 14827, 15100,\n",
       "        15279, 15604, 15737, 15904, 16079, 16174, 16422, 16740, 17330,\n",
       "        17538, 17644, 17665, 17789, 18080, 18126, 18315, 18408, 18463,\n",
       "        18654, 18882, 19080, 19084, 19133, 19438, 19807, 19900, 20055,\n",
       "        20283, 20613, 20987, 21188, 21489, 21992, 22275, 22317, 22361,\n",
       "        22385, 22749, 22811, 23087, 23467, 23678, 23999, 24008, 24067,\n",
       "        24105, 24200, 24285, 24295, 24510, 24638, 24673, 24850, 24983,\n",
       "        25178, 25372, 25611, 25633, 25841, 26083, 26414, 26442, 26593,\n",
       "        26825, 27077, 27221, 27358, 27413, 27635, 27640, 28054, 28214,\n",
       "        28264, 28294, 28318, 28349, 29635, 29806, 30244, 30496, 30913,\n",
       "        31111, 31828, 31972, 32090, 32238, 32518, 32644, 32907, 32918,\n",
       "        32979, 33253, 33263, 33443, 33553, 33692, 33715, 33718, 33787,\n",
       "        33904, 34385, 34461, 34729, 34783, 34998, 35373, 35533, 35752,\n",
       "        35830, 36448, 36506, 37176, 37262, 37343, 37574, 37602, 37784,\n",
       "        38024, 38032, 38241, 38334, 38709, 38856, 38873, 39038, 39084,\n",
       "        39419, 39585, 39908, 39917, 40112, 40113, 40366, 40415, 40748,\n",
       "        40927, 41215, 41557, 41840, 41900, 41982, 42137, 42232, 42262,\n",
       "        42356, 42457, 42639, 42768, 42935, 42975, 43018, 43707, 44352,\n",
       "        44720, 45262, 45393, 45423, 45600, 45611, 45645, 45739, 45929,\n",
       "        46378, 46573, 47011, 47071, 47185, 47739, 48582, 48591, 48598,\n",
       "        48629], dtype=int64),)"
      ]
     },
     "execution_count": 30,
     "metadata": {},
     "output_type": "execute_result"
    }
   ],
   "source": [
    "np.where(df['capital_gain'] == 99999)"
   ]
  },
  {
   "cell_type": "code",
   "execution_count": 8,
   "metadata": {},
   "outputs": [],
   "source": [
    "df.drop('capital_gain',axis = 1,inplace=True)"
   ]
  },
  {
   "cell_type": "code",
   "execution_count": 52,
   "metadata": {},
   "outputs": [
    {
     "data": {
      "image/png": "[encoded data removed]",
      "text/plain": [
       "<Figure size 432x288 with 1 Axes>"
      ]
     },
     "metadata": {
      "needs_background": "light"
     },
     "output_type": "display_data"
    }
   ],
   "source": [
    "import scipy.stats as stats\n",
    "import pylab\n",
    "import numpy as np\n",
    "import matplotlib.pyplot as plt\n",
    "stats.probplot(1/(df['hours_per_week']),plot=pylab)\n",
    "plt.show()"
   ]
  },
  {
   "cell_type": "code",
   "execution_count": 9,
   "metadata": {
    "scrolled": true
   },
   "outputs": [],
   "source": [
    "df['native_country'] = np.where(df['native_country'] == ' ?' ,df['native_country'].mode(),df['native_country'])"
   ]
  },
  {
   "cell_type": "code",
   "execution_count": 10,
   "metadata": {},
   "outputs": [],
   "source": [
    "list1 = df['native_country'].value_counts().head(8).index"
   ]
  },
  {
   "cell_type": "code",
   "execution_count": 157,
   "metadata": {},
   "outputs": [
    {
     "data": {
      "text/plain": [
       "Index([' United-States', ' Mexico', ' Philippines', ' Germany', ' Puerto-Rico',\n",
       "       ' Canada', ' El-Salvador', ' India'],\n",
       "      dtype='object')"
      ]
     },
     "execution_count": 157,
     "metadata": {},
     "output_type": "execute_result"
    }
   ],
   "source": [
    "list1 \n",
    "#list(list1)"
   ]
  },
  {
   "cell_type": "code",
   "execution_count": 11,
   "metadata": {},
   "outputs": [],
   "source": [
    "df['native_country_USA'] =  np.where(df['native_country'] == ' United-States',1,0)"
   ]
  },
  {
   "cell_type": "code",
   "execution_count": 12,
   "metadata": {},
   "outputs": [],
   "source": [
    "df['native_country_Mexico'] =  np.where(df['native_country'] == ' Mexico',1,0)"
   ]
  },
  {
   "cell_type": "code",
   "execution_count": 13,
   "metadata": {},
   "outputs": [],
   "source": [
    "df['native_country_Pilip'] =  np.where(df['native_country'] == ' Philippines',1,0)"
   ]
  },
  {
   "cell_type": "code",
   "execution_count": 14,
   "metadata": {},
   "outputs": [],
   "source": [
    "df['native_country_Germany'] =  np.where(df['native_country'] == ' Germany',1,0)"
   ]
  },
  {
   "cell_type": "code",
   "execution_count": 15,
   "metadata": {},
   "outputs": [],
   "source": [
    "df['native_country_Puerto-Rico'] =  np.where(df['native_country'] == ' Puerto-Rico',1,0)"
   ]
  },
  {
   "cell_type": "code",
   "execution_count": 16,
   "metadata": {},
   "outputs": [],
   "source": [
    "df['native_country_Canada'] =  np.where(df['native_country'] == ' Canada',1,0)"
   ]
  },
  {
   "cell_type": "code",
   "execution_count": 17,
   "metadata": {},
   "outputs": [],
   "source": [
    "df.drop('native_country',axis = 1,inplace =True)"
   ]
  },
  {
   "cell_type": "code",
   "execution_count": 18,
   "metadata": {},
   "outputs": [
    {
     "data": {
      "text/plain": [
       " Private             33906\n",
       " Self-emp-not-inc     3862\n",
       " Local-gov            3136\n",
       " ?                    2799\n",
       " State-gov            1981\n",
       " Self-emp-inc         1695\n",
       " Federal-gov          1432\n",
       " Without-pay            21\n",
       " Never-worked           10\n",
       "Name: workclass, dtype: int64"
      ]
     },
     "execution_count": 18,
     "metadata": {},
     "output_type": "execute_result"
    }
   ],
   "source": [
    "df['workclass'].value_counts()"
   ]
  },
  {
   "cell_type": "code",
   "execution_count": 19,
   "metadata": {},
   "outputs": [],
   "source": [
    "df['workclass'] = np.where(df['workclass']== ' ?', df['workclass'].mode(),df['workclass'] )"
   ]
  },
  {
   "cell_type": "code",
   "execution_count": 20,
   "metadata": {},
   "outputs": [],
   "source": [
    "df=pd.get_dummies(columns=['workclass'],drop_first=True,data=df)"
   ]
  },
  {
   "cell_type": "code",
   "execution_count": 21,
   "metadata": {},
   "outputs": [],
   "source": [
    "X = df.drop('wage_class',axis = 1)\n",
    "y = df['wage_class']"
   ]
  },
  {
   "cell_type": "code",
   "execution_count": 27,
   "metadata": {},
   "outputs": [
    {
     "data": {
      "text/plain": [
       "(48842, 63)"
      ]
     },
     "execution_count": 27,
     "metadata": {},
     "output_type": "execute_result"
    }
   ],
   "source": [
    "X.shape"
   ]
  },
  {
   "cell_type": "code",
   "execution_count": 29,
   "metadata": {
    "scrolled": true
   },
   "outputs": [
    {
     "data": {
      "text/html": [
       "<div>\n",
       "<style scoped>\n",
       "    .dataframe tbody tr th:only-of-type {\n",
       "        vertical-align: middle;\n",
       "    }\n",
       "\n",
       "    .dataframe tbody tr th {\n",
       "        vertical-align: top;\n",
       "    }\n",
       "\n",
       "    .dataframe thead th {\n",
       "        text-align: right;\n",
       "    }\n",
       "</style>\n",
       "<table border=\"1\" class=\"dataframe\">\n",
       "  <thead>\n",
       "    <tr style=\"text-align: right;\">\n",
       "      <th></th>\n",
       "      <th>age</th>\n",
       "      <th>fnlwgt</th>\n",
       "      <th>education_num</th>\n",
       "      <th>capital_loss</th>\n",
       "      <th>hours_per_week</th>\n",
       "      <th>education_ 11th</th>\n",
       "      <th>education_ 12th</th>\n",
       "      <th>education_ 1st-4th</th>\n",
       "      <th>education_ 5th-6th</th>\n",
       "      <th>education_ 7th-8th</th>\n",
       "      <th>...</th>\n",
       "      <th>native_country_Germany</th>\n",
       "      <th>native_country_Puerto-Rico</th>\n",
       "      <th>native_country_Canada</th>\n",
       "      <th>workclass_ Local-gov</th>\n",
       "      <th>workclass_ Never-worked</th>\n",
       "      <th>workclass_ Private</th>\n",
       "      <th>workclass_ Self-emp-inc</th>\n",
       "      <th>workclass_ Self-emp-not-inc</th>\n",
       "      <th>workclass_ State-gov</th>\n",
       "      <th>workclass_ Without-pay</th>\n",
       "    </tr>\n",
       "  </thead>\n",
       "  <tbody>\n",
       "    <tr>\n",
       "      <th>age</th>\n",
       "      <td>1.000000</td>\n",
       "      <td>-0.076628</td>\n",
       "      <td>0.030940</td>\n",
       "      <td>0.056944</td>\n",
       "      <td>0.071558</td>\n",
       "      <td>-0.093084</td>\n",
       "      <td>-0.054573</td>\n",
       "      <td>0.041580</td>\n",
       "      <td>0.036990</td>\n",
       "      <td>0.112087</td>\n",
       "      <td>...</td>\n",
       "      <td>-0.000198</td>\n",
       "      <td>0.005474</td>\n",
       "      <td>0.024114</td>\n",
       "      <td>0.057935</td>\n",
       "      <td>-0.019564</td>\n",
       "      <td>-0.189439</td>\n",
       "      <td>0.098962</td>\n",
       "      <td>0.142956</td>\n",
       "      <td>0.013029</td>\n",
       "      <td>0.013073</td>\n",
       "    </tr>\n",
       "    <tr>\n",
       "      <th>fnlwgt</th>\n",
       "      <td>-0.076628</td>\n",
       "      <td>1.000000</td>\n",
       "      <td>-0.038761</td>\n",
       "      <td>-0.004366</td>\n",
       "      <td>-0.013519</td>\n",
       "      <td>0.010108</td>\n",
       "      <td>0.008707</td>\n",
       "      <td>0.030621</td>\n",
       "      <td>0.039060</td>\n",
       "      <td>-0.002776</td>\n",
       "      <td>...</td>\n",
       "      <td>0.002054</td>\n",
       "      <td>0.008708</td>\n",
       "      <td>-0.004866</td>\n",
       "      <td>0.001233</td>\n",
       "      <td>0.003438</td>\n",
       "      <td>0.042687</td>\n",
       "      <td>-0.019165</td>\n",
       "      <td>-0.039082</td>\n",
       "      <td>-0.015051</td>\n",
       "      <td>-0.004274</td>\n",
       "    </tr>\n",
       "    <tr>\n",
       "      <th>education_num</th>\n",
       "      <td>0.030940</td>\n",
       "      <td>-0.038761</td>\n",
       "      <td>1.000000</td>\n",
       "      <td>0.080972</td>\n",
       "      <td>0.143689</td>\n",
       "      <td>-0.235006</td>\n",
       "      <td>-0.094384</td>\n",
       "      <td>-0.224010</td>\n",
       "      <td>-0.282527</td>\n",
       "      <td>-0.333862</td>\n",
       "      <td>...</td>\n",
       "      <td>0.021494</td>\n",
       "      <td>-0.041776</td>\n",
       "      <td>0.014611</td>\n",
       "      <td>0.097210</td>\n",
       "      <td>-0.014350</td>\n",
       "      <td>-0.169104</td>\n",
       "      <td>0.079783</td>\n",
       "      <td>0.017011</td>\n",
       "      <td>0.104692</td>\n",
       "      <td>-0.009081</td>\n",
       "    </tr>\n",
       "    <tr>\n",
       "      <th>capital_loss</th>\n",
       "      <td>0.056944</td>\n",
       "      <td>-0.004366</td>\n",
       "      <td>0.080972</td>\n",
       "      <td>1.000000</td>\n",
       "      <td>0.054467</td>\n",
       "      <td>-0.017254</td>\n",
       "      <td>-0.016994</td>\n",
       "      <td>-0.006971</td>\n",
       "      <td>-0.005749</td>\n",
       "      <td>-0.009752</td>\n",
       "      <td>...</td>\n",
       "      <td>-0.004206</td>\n",
       "      <td>0.002636</td>\n",
       "      <td>0.006625</td>\n",
       "      <td>0.009504</td>\n",
       "      <td>-0.003107</td>\n",
       "      <td>-0.033380</td>\n",
       "      <td>0.037036</td>\n",
       "      <td>0.015884</td>\n",
       "      <td>-0.002450</td>\n",
       "      <td>0.000121</td>\n",
       "    </tr>\n",
       "    <tr>\n",
       "      <th>hours_per_week</th>\n",
       "      <td>0.071558</td>\n",
       "      <td>-0.013519</td>\n",
       "      <td>0.143689</td>\n",
       "      <td>0.054467</td>\n",
       "      <td>1.000000</td>\n",
       "      <td>-0.102487</td>\n",
       "      <td>-0.047569</td>\n",
       "      <td>-0.009558</td>\n",
       "      <td>-0.012414</td>\n",
       "      <td>-0.016175</td>\n",
       "      <td>...</td>\n",
       "      <td>0.002065</td>\n",
       "      <td>-0.006978</td>\n",
       "      <td>-0.000078</td>\n",
       "      <td>0.008981</td>\n",
       "      <td>-0.013307</td>\n",
       "      <td>-0.111492</td>\n",
       "      <td>0.124680</td>\n",
       "      <td>0.093944</td>\n",
       "      <td>-0.022094</td>\n",
       "      <td>-0.010829</td>\n",
       "    </tr>\n",
       "    <tr>\n",
       "      <th>...</th>\n",
       "      <td>...</td>\n",
       "      <td>...</td>\n",
       "      <td>...</td>\n",
       "      <td>...</td>\n",
       "      <td>...</td>\n",
       "      <td>...</td>\n",
       "      <td>...</td>\n",
       "      <td>...</td>\n",
       "      <td>...</td>\n",
       "      <td>...</td>\n",
       "      <td>...</td>\n",
       "      <td>...</td>\n",
       "      <td>...</td>\n",
       "      <td>...</td>\n",
       "      <td>...</td>\n",
       "      <td>...</td>\n",
       "      <td>...</td>\n",
       "      <td>...</td>\n",
       "      <td>...</td>\n",
       "      <td>...</td>\n",
       "      <td>...</td>\n",
       "    </tr>\n",
       "    <tr>\n",
       "      <th>workclass_ Private</th>\n",
       "      <td>-0.189439</td>\n",
       "      <td>0.042687</td>\n",
       "      <td>-0.169104</td>\n",
       "      <td>-0.033380</td>\n",
       "      <td>-0.111492</td>\n",
       "      <td>0.057222</td>\n",
       "      <td>0.031365</td>\n",
       "      <td>0.023630</td>\n",
       "      <td>0.031484</td>\n",
       "      <td>0.005582</td>\n",
       "      <td>...</td>\n",
       "      <td>-0.003516</td>\n",
       "      <td>0.009840</td>\n",
       "      <td>-0.003712</td>\n",
       "      <td>-0.455521</td>\n",
       "      <td>-0.024886</td>\n",
       "      <td>1.000000</td>\n",
       "      <td>-0.329735</td>\n",
       "      <td>-0.509569</td>\n",
       "      <td>-0.357555</td>\n",
       "      <td>-0.036067</td>\n",
       "    </tr>\n",
       "    <tr>\n",
       "      <th>workclass_ Self-emp-inc</th>\n",
       "      <td>0.098962</td>\n",
       "      <td>-0.019165</td>\n",
       "      <td>0.079783</td>\n",
       "      <td>0.037036</td>\n",
       "      <td>0.124680</td>\n",
       "      <td>-0.023605</td>\n",
       "      <td>-0.009517</td>\n",
       "      <td>-0.010364</td>\n",
       "      <td>-0.010646</td>\n",
       "      <td>-0.010618</td>\n",
       "      <td>...</td>\n",
       "      <td>0.001469</td>\n",
       "      <td>-0.009834</td>\n",
       "      <td>0.012271</td>\n",
       "      <td>-0.049666</td>\n",
       "      <td>-0.002713</td>\n",
       "      <td>-0.329735</td>\n",
       "      <td>1.000000</td>\n",
       "      <td>-0.055559</td>\n",
       "      <td>-0.038985</td>\n",
       "      <td>-0.003932</td>\n",
       "    </tr>\n",
       "    <tr>\n",
       "      <th>workclass_ Self-emp-not-inc</th>\n",
       "      <td>0.142956</td>\n",
       "      <td>-0.039082</td>\n",
       "      <td>0.017011</td>\n",
       "      <td>0.015884</td>\n",
       "      <td>0.093944</td>\n",
       "      <td>-0.014964</td>\n",
       "      <td>-0.014457</td>\n",
       "      <td>-0.003776</td>\n",
       "      <td>-0.005415</td>\n",
       "      <td>0.034242</td>\n",
       "      <td>...</td>\n",
       "      <td>-0.001509</td>\n",
       "      <td>-0.011826</td>\n",
       "      <td>0.005739</td>\n",
       "      <td>-0.076753</td>\n",
       "      <td>-0.004193</td>\n",
       "      <td>-0.509569</td>\n",
       "      <td>-0.055559</td>\n",
       "      <td>1.000000</td>\n",
       "      <td>-0.060247</td>\n",
       "      <td>-0.006077</td>\n",
       "    </tr>\n",
       "    <tr>\n",
       "      <th>workclass_ State-gov</th>\n",
       "      <td>0.013029</td>\n",
       "      <td>-0.015051</td>\n",
       "      <td>0.104692</td>\n",
       "      <td>-0.002450</td>\n",
       "      <td>-0.022094</td>\n",
       "      <td>-0.032121</td>\n",
       "      <td>-0.014098</td>\n",
       "      <td>-0.011732</td>\n",
       "      <td>-0.017011</td>\n",
       "      <td>-0.017042</td>\n",
       "      <td>...</td>\n",
       "      <td>0.002634</td>\n",
       "      <td>-0.005867</td>\n",
       "      <td>-0.005761</td>\n",
       "      <td>-0.053856</td>\n",
       "      <td>-0.002942</td>\n",
       "      <td>-0.357555</td>\n",
       "      <td>-0.038985</td>\n",
       "      <td>-0.060247</td>\n",
       "      <td>1.000000</td>\n",
       "      <td>-0.004264</td>\n",
       "    </tr>\n",
       "    <tr>\n",
       "      <th>workclass_ Without-pay</th>\n",
       "      <td>0.013073</td>\n",
       "      <td>-0.004274</td>\n",
       "      <td>-0.009081</td>\n",
       "      <td>0.000121</td>\n",
       "      <td>-0.010829</td>\n",
       "      <td>-0.004071</td>\n",
       "      <td>-0.002422</td>\n",
       "      <td>-0.001479</td>\n",
       "      <td>-0.002128</td>\n",
       "      <td>0.011337</td>\n",
       "      <td>...</td>\n",
       "      <td>-0.001350</td>\n",
       "      <td>-0.001275</td>\n",
       "      <td>-0.001268</td>\n",
       "      <td>-0.005433</td>\n",
       "      <td>-0.000297</td>\n",
       "      <td>-0.036067</td>\n",
       "      <td>-0.003932</td>\n",
       "      <td>-0.006077</td>\n",
       "      <td>-0.004264</td>\n",
       "      <td>1.000000</td>\n",
       "    </tr>\n",
       "  </tbody>\n",
       "</table>\n",
       "<p>63 rows × 63 columns</p>\n",
       "</div>"
      ],
      "text/plain": [
       "                                  age    fnlwgt  education_num  capital_loss  \\\n",
       "age                          1.000000 -0.076628       0.030940      0.056944   \n",
       "fnlwgt                      -0.076628  1.000000      -0.038761     -0.004366   \n",
       "education_num                0.030940 -0.038761       1.000000      0.080972   \n",
       "capital_loss                 0.056944 -0.004366       0.080972      1.000000   \n",
       "hours_per_week               0.071558 -0.013519       0.143689      0.054467   \n",
       "...                               ...       ...            ...           ...   \n",
       "workclass_ Private          -0.189439  0.042687      -0.169104     -0.033380   \n",
       "workclass_ Self-emp-inc      0.098962 -0.019165       0.079783      0.037036   \n",
       "workclass_ Self-emp-not-inc  0.142956 -0.039082       0.017011      0.015884   \n",
       "workclass_ State-gov         0.013029 -0.015051       0.104692     -0.002450   \n",
       "workclass_ Without-pay       0.013073 -0.004274      -0.009081      0.000121   \n",
       "\n",
       "                             hours_per_week  education_ 11th  education_ 12th  \\\n",
       "age                                0.071558        -0.093084        -0.054573   \n",
       "fnlwgt                            -0.013519         0.010108         0.008707   \n",
       "education_num                      0.143689        -0.235006        -0.094384   \n",
       "capital_loss                       0.054467        -0.017254        -0.016994   \n",
       "hours_per_week                     1.000000        -0.102487        -0.047569   \n",
       "...                                     ...              ...              ...   \n",
       "workclass_ Private                -0.111492         0.057222         0.031365   \n",
       "workclass_ Self-emp-inc            0.124680        -0.023605        -0.009517   \n",
       "workclass_ Self-emp-not-inc        0.093944        -0.014964        -0.014457   \n",
       "workclass_ State-gov              -0.022094        -0.032121        -0.014098   \n",
       "workclass_ Without-pay            -0.010829        -0.004071        -0.002422   \n",
       "\n",
       "                             education_ 1st-4th  education_ 5th-6th  \\\n",
       "age                                    0.041580            0.036990   \n",
       "fnlwgt                                 0.030621            0.039060   \n",
       "education_num                         -0.224010           -0.282527   \n",
       "capital_loss                          -0.006971           -0.005749   \n",
       "hours_per_week                        -0.009558           -0.012414   \n",
       "...                                         ...                 ...   \n",
       "workclass_ Private                     0.023630            0.031484   \n",
       "workclass_ Self-emp-inc               -0.010364           -0.010646   \n",
       "workclass_ Self-emp-not-inc           -0.003776           -0.005415   \n",
       "workclass_ State-gov                  -0.011732           -0.017011   \n",
       "workclass_ Without-pay                -0.001479           -0.002128   \n",
       "\n",
       "                             education_ 7th-8th  ...  native_country_Germany  \\\n",
       "age                                    0.112087  ...               -0.000198   \n",
       "fnlwgt                                -0.002776  ...                0.002054   \n",
       "education_num                         -0.333862  ...                0.021494   \n",
       "capital_loss                          -0.009752  ...               -0.004206   \n",
       "hours_per_week                        -0.016175  ...                0.002065   \n",
       "...                                         ...  ...                     ...   \n",
       "workclass_ Private                     0.005582  ...               -0.003516   \n",
       "workclass_ Self-emp-inc               -0.010618  ...                0.001469   \n",
       "workclass_ Self-emp-not-inc            0.034242  ...               -0.001509   \n",
       "workclass_ State-gov                  -0.017042  ...                0.002634   \n",
       "workclass_ Without-pay                 0.011337  ...               -0.001350   \n",
       "\n",
       "                             native_country_Puerto-Rico  \\\n",
       "age                                            0.005474   \n",
       "fnlwgt                                         0.008708   \n",
       "education_num                                 -0.041776   \n",
       "capital_loss                                   0.002636   \n",
       "hours_per_week                                -0.006978   \n",
       "...                                                 ...   \n",
       "workclass_ Private                             0.009840   \n",
       "workclass_ Self-emp-inc                       -0.009834   \n",
       "workclass_ Self-emp-not-inc                   -0.011826   \n",
       "workclass_ State-gov                          -0.005867   \n",
       "workclass_ Without-pay                        -0.001275   \n",
       "\n",
       "                             native_country_Canada  workclass_ Local-gov  \\\n",
       "age                                       0.024114              0.057935   \n",
       "fnlwgt                                   -0.004866              0.001233   \n",
       "education_num                             0.014611              0.097210   \n",
       "capital_loss                              0.006625              0.009504   \n",
       "hours_per_week                           -0.000078              0.008981   \n",
       "...                                            ...                   ...   \n",
       "workclass_ Private                       -0.003712             -0.455521   \n",
       "workclass_ Self-emp-inc                   0.012271             -0.049666   \n",
       "workclass_ Self-emp-not-inc               0.005739             -0.076753   \n",
       "workclass_ State-gov                     -0.005761             -0.053856   \n",
       "workclass_ Without-pay                   -0.001268             -0.005433   \n",
       "\n",
       "                             workclass_ Never-worked  workclass_ Private  \\\n",
       "age                                        -0.019564           -0.189439   \n",
       "fnlwgt                                      0.003438            0.042687   \n",
       "education_num                              -0.014350           -0.169104   \n",
       "capital_loss                               -0.003107           -0.033380   \n",
       "hours_per_week                             -0.013307           -0.111492   \n",
       "...                                              ...                 ...   \n",
       "workclass_ Private                         -0.024886            1.000000   \n",
       "workclass_ Self-emp-inc                    -0.002713           -0.329735   \n",
       "workclass_ Self-emp-not-inc                -0.004193           -0.509569   \n",
       "workclass_ State-gov                       -0.002942           -0.357555   \n",
       "workclass_ Without-pay                     -0.000297           -0.036067   \n",
       "\n",
       "                             workclass_ Self-emp-inc  \\\n",
       "age                                         0.098962   \n",
       "fnlwgt                                     -0.019165   \n",
       "education_num                               0.079783   \n",
       "capital_loss                                0.037036   \n",
       "hours_per_week                              0.124680   \n",
       "...                                              ...   \n",
       "workclass_ Private                         -0.329735   \n",
       "workclass_ Self-emp-inc                     1.000000   \n",
       "workclass_ Self-emp-not-inc                -0.055559   \n",
       "workclass_ State-gov                       -0.038985   \n",
       "workclass_ Without-pay                     -0.003932   \n",
       "\n",
       "                             workclass_ Self-emp-not-inc  \\\n",
       "age                                             0.142956   \n",
       "fnlwgt                                         -0.039082   \n",
       "education_num                                   0.017011   \n",
       "capital_loss                                    0.015884   \n",
       "hours_per_week                                  0.093944   \n",
       "...                                                  ...   \n",
       "workclass_ Private                             -0.509569   \n",
       "workclass_ Self-emp-inc                        -0.055559   \n",
       "workclass_ Self-emp-not-inc                     1.000000   \n",
       "workclass_ State-gov                           -0.060247   \n",
       "workclass_ Without-pay                         -0.006077   \n",
       "\n",
       "                             workclass_ State-gov  workclass_ Without-pay  \n",
       "age                                      0.013029                0.013073  \n",
       "fnlwgt                                  -0.015051               -0.004274  \n",
       "education_num                            0.104692               -0.009081  \n",
       "capital_loss                            -0.002450                0.000121  \n",
       "hours_per_week                          -0.022094               -0.010829  \n",
       "...                                           ...                     ...  \n",
       "workclass_ Private                      -0.357555               -0.036067  \n",
       "workclass_ Self-emp-inc                 -0.038985               -0.003932  \n",
       "workclass_ Self-emp-not-inc             -0.060247               -0.006077  \n",
       "workclass_ State-gov                     1.000000               -0.004264  \n",
       "workclass_ Without-pay                  -0.004264                1.000000  \n",
       "\n",
       "[63 rows x 63 columns]"
      ]
     },
     "execution_count": 29,
     "metadata": {},
     "output_type": "execute_result"
    }
   ],
   "source": [
    "X.corr()"
   ]
  },
  {
   "cell_type": "code",
   "execution_count": 31,
   "metadata": {
    "collapsed": true
   },
   "outputs": [
    {
     "data": {
      "text/plain": [
       "<matplotlib.axes._subplots.AxesSubplot at 0x2a315c37788>"
      ]
     },
     "execution_count": 31,
     "metadata": {},
     "output_type": "execute_result"
    },
    {
     "data": {
      "image/png": "[encoded data removed]",
      "text/plain": [
       "<Figure size 432x288 with 2 Axes>"
      ]
     },
     "metadata": {
      "needs_background": "light"
     },
     "output_type": "display_data"
    }
   ],
   "source": [
    "import seaborn as sns\n",
    "sns.heatmap(X.corr())"
   ]
  },
  {
   "cell_type": "code",
   "execution_count": 38,
   "metadata": {},
   "outputs": [
    {
     "name": "stdout",
     "output_type": "stream",
     "text": [
      "occupation_ Handlers-cleaners       occupation_ Handlers-cleaners         1.000000\n",
      "age                                 age                                   1.000000\n",
      "race_ White                         race_ Black                           0.791096\n",
      "race_ Black                         race_ White                           0.791096\n",
      "marital_status_ Never-married       marital_status_ Married-civ-spouse    0.645362\n",
      "marital_status_ Married-civ-spouse  marital_status_ Never-married         0.645362\n",
      "                                    relationship_ Not-in-family           0.539571\n",
      "relationship_ Not-in-family         marital_status_ Married-civ-spouse    0.539571\n",
      "marital_status_ Never-married       age                                   0.538250\n",
      "age                                 marital_status_ Never-married         0.538250\n",
      "marital_status_ Never-married       relationship_ Own-child               0.510863\n",
      "relationship_ Own-child             marital_status_ Never-married         0.510863\n",
      "dtype: float64\n"
     ]
    }
   ],
   "source": [
    "#to extract list of most related colunns\n",
    "c = X.corr().abs()\n",
    "\n",
    "s = c.unstack()\n",
    "so = s.sort_values(kind=\"quicksort\",ascending=False)\n",
    "\n",
    "print(so[-3908:-3896])#3908 is number we ot from multiplication num of cols(63*63) aft it we take numbers accoprdinly usin - as we doin it from downwards"
   ]
  },
  {
   "cell_type": "code",
   "execution_count": null,
   "metadata": {},
   "outputs": [],
   "source": []
  },
  {
   "cell_type": "code",
   "execution_count": null,
   "metadata": {},
   "outputs": [],
   "source": []
  },
  {
   "cell_type": "code",
   "execution_count": 22,
   "metadata": {},
   "outputs": [
    {
     "data": {
      "text/plain": [
       "ExtraTreesClassifier()"
      ]
     },
     "execution_count": 22,
     "metadata": {},
     "output_type": "execute_result"
    }
   ],
   "source": [
    "#Feature Importance\n",
    "from sklearn.ensemble import ExtraTreesClassifier\n",
    "m1 = ExtraTreesClassifier()\n",
    "m1.fit(X,y)"
   ]
  },
  {
   "cell_type": "code",
   "execution_count": 39,
   "metadata": {},
   "outputs": [
    {
     "data": {
      "image/png": "[encoded data removed]",
      "text/plain": [
       "<Figure size 432x288 with 1 Axes>"
      ]
     },
     "metadata": {
      "needs_background": "light"
     },
     "output_type": "display_data"
    }
   ],
   "source": [
    "#plottin the feature importances\n",
    "rank_features = pd.Series(m1.feature_importances_,index=X.columns)\n",
    "rank_features.nlargest(30).plot.barh()\n",
    "plt.show()"
   ]
  },
  {
   "cell_type": "code",
   "execution_count": 42,
   "metadata": {},
   "outputs": [
    {
     "data": {
      "text/plain": [
       "Index(['fnlwgt', 'age', 'hours_per_week', 'marital_status_ Married-civ-spouse',\n",
       "       'marital_status_ Never-married', 'education_num',\n",
       "       'occupation_ Exec-managerial', 'capital_loss',\n",
       "       'relationship_ Not-in-family', 'occupation_ Prof-specialty',\n",
       "       'education_ Bachelors', 'sex_ Male', 'relationship_ Own-child',\n",
       "       'education_ Masters', 'relationship_ Unmarried', 'workclass_ Private',\n",
       "       'education_ HS-grad', 'occupation_ Other-service', 'native_country_USA',\n",
       "       'workclass_ Self-emp-not-inc', 'education_ Prof-school',\n",
       "       'workclass_ Self-emp-inc', 'relationship_ Wife', 'race_ White',\n",
       "       'occupation_ Sales', 'education_ Some-college', 'workclass_ Local-gov',\n",
       "       'occupation_ Craft-repair', 'workclass_ State-gov',\n",
       "       'education_ Doctorate'],\n",
       "      dtype='object')"
      ]
     },
     "execution_count": 42,
     "metadata": {},
     "output_type": "execute_result"
    }
   ],
   "source": [
    "rank_features.nlargest(30).index"
   ]
  },
  {
   "cell_type": "code",
   "execution_count": 44,
   "metadata": {},
   "outputs": [],
   "source": [
    "X = df[['fnlwgt', 'age', 'hours_per_week', 'marital_status_ Married-civ-spouse',\n",
    "       'marital_status_ Never-married', 'education_num',\n",
    "       'occupation_ Exec-managerial', 'capital_loss',\n",
    "       'relationship_ Not-in-family', 'occupation_ Prof-specialty',\n",
    "       'education_ Bachelors', 'sex_ Male', 'relationship_ Own-child',\n",
    "       'education_ Masters', 'relationship_ Unmarried', 'workclass_ Private',\n",
    "       'education_ HS-grad', 'occupation_ Other-service', 'native_country_USA',\n",
    "       'workclass_ Self-emp-not-inc', 'education_ Prof-school',\n",
    "       'workclass_ Self-emp-inc', 'relationship_ Wife', 'race_ White',\n",
    "       'occupation_ Sales', 'education_ Some-college', 'workclass_ Local-gov',\n",
    "       'occupation_ Craft-repair', 'workclass_ State-gov',\n",
    "       'education_ Doctorate']]"
   ]
  },
  {
   "cell_type": "code",
   "execution_count": 45,
   "metadata": {},
   "outputs": [],
   "source": [
    "from sklearn.model_selection import train_test_split\n",
    "X_train,X_test,y_train,y_test = train_test_split(X,y,test_size=0.3, random_state=42)"
   ]
  },
  {
   "cell_type": "code",
   "execution_count": null,
   "metadata": {},
   "outputs": [],
   "source": []
  },
  {
   "cell_type": "code",
   "execution_count": 56,
   "metadata": {},
   "outputs": [
    {
     "name": "stdout",
     "output_type": "stream",
     "text": [
      "0.8498639913422446\n"
     ]
    }
   ],
   "source": [
    "from xgboost import XGBClassifier\n",
    "xgb=XGBClassifier()\n",
    "xgb.fit(X_train,y_train,early_stopping_rounds=5, eval_set=[(X_train, y_train)],\n",
    "             verbose=False)\n",
    "print(xgb.score(X_train,y_train))\n"
   ]
  },
  {
   "cell_type": "code",
   "execution_count": 58,
   "metadata": {},
   "outputs": [],
   "source": [
    "predict = xgb.predict(X_test)"
   ]
  },
  {
   "cell_type": "code",
   "execution_count": 60,
   "metadata": {},
   "outputs": [
    {
     "name": "stdout",
     "output_type": "stream",
     "text": [
      "[[10426   683]\n",
      " [ 1603  1941]]\n"
     ]
    }
   ],
   "source": [
    "from sklearn import metrics\n",
    "print(metrics.confusion_matrix(y_test,predict))"
   ]
  },
  {
   "cell_type": "code",
   "execution_count": 61,
   "metadata": {},
   "outputs": [
    {
     "name": "stdout",
     "output_type": "stream",
     "text": [
      "0.8439909916058145\n"
     ]
    }
   ],
   "source": [
    "print(metrics.accuracy_score(y_test,predict))"
   ]
  },
  {
   "cell_type": "code",
   "execution_count": null,
   "metadata": {},
   "outputs": [],
   "source": []
  },
  {
   "cell_type": "code",
   "execution_count": 62,
   "metadata": {},
   "outputs": [
    {
     "name": "stdout",
     "output_type": "stream",
     "text": [
      "              precision    recall  f1-score   support\n",
      "\n",
      "           0       0.87      0.94      0.90     11109\n",
      "           1       0.74      0.55      0.63      3544\n",
      "\n",
      "    accuracy                           0.84     14653\n",
      "   macro avg       0.80      0.74      0.77     14653\n",
      "weighted avg       0.84      0.84      0.84     14653\n",
      "\n"
     ]
    }
   ],
   "source": [
    "print(metrics.classification_report(y_test,predict))"
   ]
  },
  {
   "cell_type": "code",
   "execution_count": 63,
   "metadata": {},
   "outputs": [],
   "source": [
    "from sklearn.metrics import roc_curve\n",
    "from sklearn.metrics import roc_auc_score\n",
    "from matplotlib import pyplot"
   ]
  },
  {
   "cell_type": "code",
   "execution_count": 64,
   "metadata": {},
   "outputs": [
    {
     "name": "stdout",
     "output_type": "stream",
     "text": [
      "xgb: ROC AUC=0.896\n"
     ]
    },
    {
     "data": {
      "image/png": "[encoded data removed]",
      "text/plain": [
       "<Figure size 432x288 with 1 Axes>"
      ]
     },
     "metadata": {
      "needs_background": "light"
     },
     "output_type": "display_data"
    }
   ],
   "source": [
    "lr_probs = xgb.predict_proba(X_test)\n",
    "# keep probabilities for the positive outcome only\n",
    "lr_probs = lr_probs[:, 1]\n",
    "# calculate scores\n",
    "lr_auc = roc_auc_score(y_test, lr_probs)\n",
    "# summarize scores\n",
    "print('xgb: ROC AUC=%.3f' % (lr_auc))\n",
    "# calculate roc curves\n",
    "lr_fpr, lr_tpr, _ = roc_curve(y_test, lr_probs)\n",
    "# plot the roc curve for the model\n",
    "pyplot.plot(lr_fpr, lr_tpr, marker='.', label='xgboost')\n",
    "# axis labels\n",
    "pyplot.xlabel('False Positive Rate')\n",
    "pyplot.ylabel('True Positive Rate')\n",
    "# show the legend\n",
    "pyplot.legend()\n",
    "# show the plot\n",
    "pyplot.show()"
   ]
  },
  {
   "cell_type": "code",
   "execution_count": 66,
   "metadata": {},
   "outputs": [],
   "source": [
    "#yperparameter optimization\n",
    "params = {\n",
    "        'learning_rate' : [0.05,0.10,0.15,0.20,0.25,0.30],\n",
    "        'max_depth' : [3,4,5,6,8,10,12,15],\n",
    "         'min_child_weight' : [1,3,5,7],\n",
    "          'gamma' : [0.0,0.1,0.2,0.3,0.4],\n",
    "          'colsample_bytree' : [0.3,0.4,0.5,0.7]\n",
    "}"
   ]
  },
  {
   "cell_type": "code",
   "execution_count": 67,
   "metadata": {},
   "outputs": [],
   "source": [
    "#using randomized searchCV\n",
    "from sklearn.model_selection import RandomizedSearchCV\n",
    "import xgboost\n",
    "classifier = xgboost.XGBClassifier()\n",
    "random_search = RandomizedSearchCV(classifier,param_distributions = params,n_iter = 5,scoring = 'roc_auc',n_jobs = -1,cv = 5,verbose = 3 )"
   ]
  },
  {
   "cell_type": "code",
   "execution_count": 68,
   "metadata": {},
   "outputs": [
    {
     "name": "stdout",
     "output_type": "stream",
     "text": [
      "Fitting 5 folds for each of 5 candidates, totalling 25 fits\n"
     ]
    },
    {
     "name": "stderr",
     "output_type": "stream",
     "text": [
      "[Parallel(n_jobs=-1)]: Using backend LokyBackend with 4 concurrent workers.\n",
      "[Parallel(n_jobs=-1)]: Done  25 out of  25 | elapsed:   45.0s finished\n"
     ]
    },
    {
     "data": {
      "text/plain": [
       "RandomizedSearchCV(cv=5, estimator=XGBClassifier(), n_iter=5, n_jobs=-1,\n",
       "                   param_distributions={'colsample_bytree': [0.3, 0.4, 0.5,\n",
       "                                                             0.7],\n",
       "                                        'gamma': [0.0, 0.1, 0.2, 0.3, 0.4],\n",
       "                                        'learning_rate': [0.05, 0.1, 0.15, 0.2,\n",
       "                                                          0.25, 0.3],\n",
       "                                        'max_depth': [3, 4, 5, 6, 8, 10, 12,\n",
       "                                                      15],\n",
       "                                        'min_child_weight': [1, 3, 5, 7]},\n",
       "                   scoring='roc_auc', verbose=3)"
      ]
     },
     "execution_count": 68,
     "metadata": {},
     "output_type": "execute_result"
    }
   ],
   "source": [
    "random_search.fit(X_train,y_train)"
   ]
  },
  {
   "cell_type": "code",
   "execution_count": 69,
   "metadata": {},
   "outputs": [
    {
     "data": {
      "text/plain": [
       "XGBClassifier(colsample_bytree=0.4, gamma=0.3, learning_rate=0.25, max_depth=6,\n",
       "              min_child_weight=7)"
      ]
     },
     "execution_count": 69,
     "metadata": {},
     "output_type": "execute_result"
    }
   ],
   "source": [
    "random_search.best_estimator_"
   ]
  },
  {
   "cell_type": "code",
   "execution_count": 71,
   "metadata": {},
   "outputs": [
    {
     "data": {
      "text/plain": [
       "XGBClassifier(colsample_bytree=0.4, gamma=0.3, learning_rate=0.25, max_depth=6,\n",
       "              min_child_weight=7)"
      ]
     },
     "execution_count": 71,
     "metadata": {},
     "output_type": "execute_result"
    }
   ],
   "source": [
    "classifier = xgboost.XGBClassifier(colsample_bytree=0.4, gamma=0.3, learning_rate=0.25, max_depth=6,\n",
    "              min_child_weight=7)\n",
    "classifier.fit(X_train,y_train)"
   ]
  },
  {
   "cell_type": "code",
   "execution_count": 72,
   "metadata": {},
   "outputs": [],
   "source": [
    "predict = classifier.predict(X_test)"
   ]
  },
  {
   "cell_type": "code",
   "execution_count": 73,
   "metadata": {},
   "outputs": [
    {
     "name": "stdout",
     "output_type": "stream",
     "text": [
      "0.8451511635842489\n"
     ]
    }
   ],
   "source": [
    "print(metrics.accuracy_score(y_test,predict))"
   ]
  },
  {
   "cell_type": "code",
   "execution_count": 74,
   "metadata": {},
   "outputs": [
    {
     "name": "stdout",
     "output_type": "stream",
     "text": [
      "xgb: ROC AUC=0.899\n"
     ]
    },
    {
     "data": {
      "image/png": "[encoded data removed]",
      "text/plain": [
       "<Figure size 432x288 with 1 Axes>"
      ]
     },
     "metadata": {
      "needs_background": "light"
     },
     "output_type": "display_data"
    }
   ],
   "source": [
    "lr_probs = classifier.predict_proba(X_test)\n",
    "# keep probabilities for the positive outcome only\n",
    "lr_probs = lr_probs[:, 1]\n",
    "# calculate scores\n",
    "lr_auc = roc_auc_score(y_test, lr_probs)\n",
    "# summarize scores\n",
    "print('xgb: ROC AUC=%.3f' % (lr_auc))\n",
    "# calculate roc curves\n",
    "lr_fpr, lr_tpr, _ = roc_curve(y_test, lr_probs)\n",
    "# plot the roc curve for the model\n",
    "pyplot.plot(lr_fpr, lr_tpr, marker='.', label='xgboost')\n",
    "# axis labels\n",
    "pyplot.xlabel('False Positive Rate')\n",
    "pyplot.ylabel('True Positive Rate')\n",
    "# show the legend\n",
    "pyplot.legend()\n",
    "# show the plot\n",
    "pyplot.show()"
   ]
  }
 ],
 "metadata": {
  "kernelspec": {
   "display_name": "Python 3",
   "language": "python",
   "name": "python3"
  },
  "language_info": {
   "codemirror_mode": {
    "name": "ipython",
    "version": 3
   },
   "file_extension": ".py",
   "mimetype": "text/x-python",
   "name": "python",
   "nbconvert_exporter": "python",
   "pygments_lexer": "ipython3",
   "version": "3.7.6"
  }
 },
 "nbformat": 4,
 "nbformat_minor": 4
}
