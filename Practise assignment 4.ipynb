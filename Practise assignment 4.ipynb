{
 "cells": [
  {
   "cell_type": "code",
   "execution_count": 24,
   "metadata": {},
   "outputs": [],
   "source": [
    "#2.2 Write a Python function which takes a character (i.e. a string of length 1) and returns True if\n",
    "#it is a vowel, False otherwise.\n",
    "\n",
    "def vowel_c(char):\n",
    "    if char in ('a', 'e', 'i', 'o', 'u', 'A', 'E', 'I', 'O', 'U') :\n",
    "        return True\n",
    "    else:\n",
    "        return False\n",
    "    "
   ]
  },
  {
   "cell_type": "code",
   "execution_count": 31,
   "metadata": {},
   "outputs": [
    {
     "name": "stdout",
     "output_type": "stream",
     "text": [
      "True\n"
     ]
    }
   ],
   "source": [
    "ch = vowel_c('U')\n",
    "print(ch)"
   ]
  },
  {
   "cell_type": "code",
   "execution_count": null,
   "metadata": {},
   "outputs": [],
   "source": []
  },
  {
   "cell_type": "code",
   "execution_count": 64,
   "metadata": {},
   "outputs": [],
   "source": [
    "#2.1 Write a Python program using function concept that maps list of words into a list of integers\n",
    "#representing the lengths of the corresponding words.\n",
    "\n",
    "def length(lst):\n",
    "    res = []\n",
    "    for i in range(0,len(lst)) :\n",
    "        d= len(lst[i])\n",
    "        res.append(d)\n",
    "    print(res)"
   ]
  },
  {
   "cell_type": "code",
   "execution_count": 67,
   "metadata": {},
   "outputs": [
    {
     "name": "stdout",
     "output_type": "stream",
     "text": [
      "[5, 4, 7, 9, 7]\n"
     ]
    }
   ],
   "source": [
    "length(['rahul','tina','rishabh','rahulllll','ineuron'])"
   ]
  },
  {
   "cell_type": "code",
   "execution_count": null,
   "metadata": {},
   "outputs": [],
   "source": []
  },
  {
   "cell_type": "code",
   "execution_count": null,
   "metadata": {},
   "outputs": [],
   "source": [
    "#1.2 Write a function filter_long_words() that takes a list of words and an integer n and returns\n",
    "#the list of words that are longer than n."
   ]
  },
  {
   "cell_type": "code",
   "execution_count": 68,
   "metadata": {},
   "outputs": [],
   "source": [
    "def filter_long_words(lst,n):\n",
    "    res = []\n",
    "    for i in range(0,len(lst)) :\n",
    "        d= len(lst[i])\n",
    "        if d > n :\n",
    "            res.append(lst[i])\n",
    "    print(res)"
   ]
  },
  {
   "cell_type": "code",
   "execution_count": 71,
   "metadata": {},
   "outputs": [
    {
     "name": "stdout",
     "output_type": "stream",
     "text": [
      "['buffalo', 'quotes']\n"
     ]
    }
   ],
   "source": [
    "filter_long_words(['rahul','akh','buffalo','quotes'],5)"
   ]
  },
  {
   "cell_type": "code",
   "execution_count": null,
   "metadata": {},
   "outputs": [],
   "source": []
  },
  {
   "cell_type": "code",
   "execution_count": 30,
   "metadata": {},
   "outputs": [],
   "source": [
    "#1.1 Write a Python Program(with class concepts) to find the area of the triangle using the below\n",
    "#formula.\n",
    "#area = (s*(s-a)*(s-b)*(s-c))\n",
    "\n",
    "class sides:\n",
    "    def __init__(P,a,b,c):\n",
    "        P.a = a\n",
    "        P.b = b\n",
    "        P.c = c\n",
    "    \n"
   ]
  },
  {
   "cell_type": "code",
   "execution_count": 32,
   "metadata": {},
   "outputs": [
    {
     "name": "stdout",
     "output_type": "stream",
     "text": [
      "14.981238266578634\n"
     ]
    }
   ],
   "source": [
    "\n",
    "class area(sides):\n",
    "    def __int__(q,*args):\n",
    "        super(area,q).__int__(*args)\n",
    "    \n",
    "    def are(q):\n",
    "        s=(q.a + q.b + q.c)/2\n",
    "        area=(s*(s-q.a)*(s-q.b)*(s-q.c)) ** 0.5\n",
    "        return area\n",
    "\n",
    "b1 = area(8,6,5)\n",
    "print(b1.are())"
   ]
  }
 ],
 "metadata": {
  "kernelspec": {
   "display_name": "Python 3",
   "language": "python",
   "name": "python3"
  },
  "language_info": {
   "codemirror_mode": {
    "name": "ipython",
    "version": 3
   },
   "file_extension": ".py",
   "mimetype": "text/x-python",
   "name": "python",
   "nbconvert_exporter": "python",
   "pygments_lexer": "ipython3",
   "version": "3.7.4"
  }
 },
 "nbformat": 4,
 "nbformat_minor": 2
}
