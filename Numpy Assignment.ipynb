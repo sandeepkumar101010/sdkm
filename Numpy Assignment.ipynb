{
 "cells": [
  {
   "cell_type": "code",
   "execution_count": 27,
   "metadata": {},
   "outputs": [],
   "source": [
    "#moving average\n",
    "def moving_avg(lst,k):\n",
    "    y= []\n",
    "    for i in range(len(lst)- k + 1): \n",
    "        current_average = 0\n",
    "        for j in range(k): \n",
    "            current_average = (current_average + lst[i + j])/k\n",
    "        y.append(current_average)\n",
    "    return y\n",
    "\n",
    "                \n",
    "                \n",
    "        "
   ]
  },
  {
   "cell_type": "code",
   "execution_count": 28,
   "metadata": {},
   "outputs": [
    {
     "data": {
      "text/plain": [
       "[8.318449676036835,\n",
       " 10.039806187152863,\n",
       " 11.379975736141205,\n",
       " 13.797496914863586,\n",
       " 14.224687099456787,\n",
       " 20.528085827827454]"
      ]
     },
     "execution_count": 28,
     "metadata": {},
     "output_type": "execute_result"
    }
   ],
   "source": [
    "moving_avg([3, 5, 7, 2, 8, 10, 11, 65, 72, 81, 99, 100, 150],8)"
   ]
  },
  {
   "cell_type": "code",
   "execution_count": 39,
   "metadata": {},
   "outputs": [],
   "source": [
    "#Question No 1 (Alexandre-Theophile Vandermonde.)\n",
    "import numpy as np\n",
    "def gen_matrix(lst,n,increasing = False):\n",
    "    if not increasing:\n",
    "        output = np.array([x**(n-1-i) for x in lst for i in range(n)])\n",
    "    elif increasing:\n",
    "        output = np.array([x**i for x in lst for i in range(n)])\n",
    "    \n",
    "    return output\n",
    "    "
   ]
  },
  {
   "cell_type": "code",
   "execution_count": 40,
   "metadata": {},
   "outputs": [
    {
     "data": {
      "text/plain": [
       "array([[  1,   1,   1,   1],\n",
       "       [  1,   6,  36, 216],\n",
       "       [  1,   3,   9,  27],\n",
       "       [  1,   4,  16,  64],\n",
       "       [  1,   5,  25, 125],\n",
       "       [  1,   9,  81, 729]])"
      ]
     },
     "execution_count": 40,
     "metadata": {},
     "output_type": "execute_result"
    }
   ],
   "source": [
    "lst = np.array([1,6,3,4,5,9])\n",
    "no_of_col = 4\n",
    "output_mat = gen_matrix(lst,no_of_col,True)\n",
    "output_mat.reshape(lst.size,no_of_col)"
   ]
  },
  {
   "cell_type": "code",
   "execution_count": null,
   "metadata": {},
   "outputs": [],
   "source": []
  },
  {
   "cell_type": "code",
   "execution_count": null,
   "metadata": {},
   "outputs": [],
   "source": []
  }
 ],
 "metadata": {
  "kernelspec": {
   "display_name": "Python 3",
   "language": "python",
   "name": "python3"
  },
  "language_info": {
   "codemirror_mode": {
    "name": "ipython",
    "version": 3
   },
   "file_extension": ".py",
   "mimetype": "text/x-python",
   "name": "python",
   "nbconvert_exporter": "python",
   "pygments_lexer": "ipython3",
   "version": "3.7.6"
  }
 },
 "nbformat": 4,
 "nbformat_minor": 4
}
